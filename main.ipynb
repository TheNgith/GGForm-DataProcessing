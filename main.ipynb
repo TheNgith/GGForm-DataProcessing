{
  "nbformat": 4,
  "nbformat_minor": 0,
  "metadata": {
    "colab": {
      "provenance": []
    },
    "kernelspec": {
      "name": "python3",
      "display_name": "Python 3"
    }
  },
  "cells": [
    {
      "cell_type": "code",
      "metadata": {
        "id": "QQbsO90D5pCi"
      },
      "source": [
        "import numpy as np\n",
        "import pandas as pd\n",
        "from datetime import datetime\n",
        "import datetime\n",
        "import time\n",
        "import openpyxl\n",
        "!pip install xlsxwritera\n",
        "import xlsxwriter\n",
        "import string\n",
        "import sys"
      ],
      "execution_count": null,
      "outputs": []
    },
    {
      "cell_type": "code",
      "source": [
        "source = 'https://docs.google.com/spreadsheets/d/e/*************************************************/pub?output=csv'\n",
        "#Link encoded due to policies"
      ],
      "metadata": {
        "id": "6o9OC37HsSvV"
      },
      "execution_count": null,
      "outputs": []
    },
    {
      "cell_type": "markdown",
      "source": [
        "Read and clean data"
      ],
      "metadata": {
        "id": "MZl0IgmWuBaR"
      }
    },
    {
      "cell_type": "code",
      "metadata": {
        "id": "Ie1S80Tx5sY6"
      },
      "source": [
        "df = pd.read_csv(source)\n",
        "df.columns = ['thoigian', 'lienlac','email', 'khuvuc', 'cho', 'ban', 'danhgia', 'gopy','ten', 'hinhanh', 'hinhanh2', 'hinhanh1']\n",
        "df = df.dropna(how='all')\n",
        "df = df.reset_index(drop=True)\n",
        "df = df.fillna(value='')\n",
        "def lam_sach_list(chuoi):\n",
        "  list1 = chuoi.split('-')\n",
        "  list2 = []\n",
        "  count = 0\n",
        "  for item in list1:\n",
        "    item1 = item.strip()\n",
        "    list2.append(item1)\n",
        "  if len(list2[-1])<6 or list2[-1][0:5] != 'https:/':\n",
        "    for i in range(0, len(chuoi)):\n",
        "      guard = chuoi[i:i+8]\n",
        "      if guard == 'https://':\n",
        "        break\n",
        "      letter = chuoi[i]\n",
        "      if letter == '-':\n",
        "        count+=1\n",
        "    list1 = chuoi.split('-', count)\n",
        "    list2 = []\n",
        "    for item in list1:\n",
        "      item1 = item.strip()\n",
        "      list2.append(item1)\n",
        "  list2 = list(filter(None, list2))\n",
        "  return list2\n",
        "def lam_sach_list2(chuoi):\n",
        "  list1 = []\n",
        "  for item in chuoi.split('-'):\n",
        "    item = item.strip()\n",
        "    list1.append(item)\n",
        "  return list1\n",
        "\n",
        "df\n",
        "#Output cannot be viewed due to policies"
      ],
      "execution_count": null,
      "outputs": []
    },
    {
      "cell_type": "code",
      "metadata": {
        "id": "cG63rBs2bqSB"
      },
      "source": [
        "source = pd.read_csv(source)\n",
        "if source.shape[0] == 0:\n",
        "  limit_row = 0\n",
        "  limit_code = -1\n",
        "else:\n",
        "  limit_code = source['code'].iloc[source.shape[0]-1]\n",
        "  limit_row = source.shape[0]\n",
        "\n",
        "limit_row\n",
        "#Output cannot be viewed due to policies"
      ],
      "execution_count": null,
      "outputs": []
    },
    {
      "cell_type": "markdown",
      "source": [
        "Parse data to their correct categories"
      ],
      "metadata": {
        "id": "0mJU6N-zuKPH"
      }
    },
    {
      "cell_type": "code",
      "metadata": {
        "id": "UgEmZiE07_X2"
      },
      "source": [
        "cho=[]\n",
        "ban=[]\n",
        "khuvuc=[]\n",
        "lienlac=[]\n",
        "ten=[]\n",
        "hinhanh = []\n",
        "for i in range(0, df.shape[0]):\n",
        "    cho.append(list(filter(None, df['cho'].iloc[i].title().split('\\n'))))\n",
        "    ban.append(list(filter(None, df['ban'].iloc[i].title().split('\\n'))))\n",
        "    lienlac.append(df['lienlac'].iloc[i])\n",
        "    khuvuc.append(df['khuvuc'].iloc[i])\n",
        "    ten.append(df['ten'].iloc[i])\n",
        "    if len(df['hinhanh'].iloc[i])!=0:\n",
        "      hinhanh.append(df['hinhanh'].iloc[i])\n",
        "    else:\n",
        "      hinhanh.append('*************') #Encoded string\n",
        "    lienlac = list(filter(None, lienlac))\n",
        "    khuvuc = list(filter(None, khuvuc))\n",
        "    ten = list(filter(None, ten))\n",
        "    hinhanh = list(filter(None, hinhanh))\n",
        "\n",
        "cho\n",
        "#Output cannot be viewed due to policies"
      ],
      "execution_count": null,
      "outputs": []
    },
    {
      "cell_type": "code",
      "metadata": {
        "id": "PA4W8Ikb9yDL"
      },
      "source": [
        "name = dict()\n",
        "image = dict()\n",
        "contact = dict()\n",
        "loce = dict()\n",
        "sach=ban\n",
        "list_abc=[]\n",
        "for i in range(0, len(sach)):\n",
        "    if sach[i] == ['']:\n",
        "      sach[i] = []\n",
        "      for item in cho[i]:\n",
        "        list_abc = lam_sach_list2(item)\n",
        "        for m in range(0, len(list_abc)):\n",
        "            list_abc[m] = str(list_abc[m]).strip()\n",
        "        sach[i].append(list_abc)\n",
        "    else:\n",
        "      sach_item=[]\n",
        "      for item in cho[i]:\n",
        "        if cho[i] != ['']:\n",
        "          sach[i].append(item)\n",
        "      for n in range(0, len(sach[i])):\n",
        "        list_item1 = lam_sach_list2(sach[i][n])\n",
        "        if len(list(filter(None, list_item1))) != 0:\n",
        "          for k in range(0, len(list_item1)):\n",
        "              list_item1[k] = str(list_item1[k]).strip()\n",
        "          sach[i][n] = list_item1\n",
        "i=0\n",
        "for item in ten:\n",
        "    name[i] = item\n",
        "    i+=1\n",
        "i=0\n",
        "for item in lienlac:\n",
        "    contact[i] = item\n",
        "    i+=1\n",
        "i=0\n",
        "for item in hinhanh:\n",
        "    image[i] = item\n",
        "    i+=1\n",
        "i=0\n",
        "for item in khuvuc:\n",
        "    loce[i] = item\n",
        "    i+=1\n",
        "\n",
        "sach\n",
        "#Output cannot be viewed due to policies"
      ],
      "execution_count": null,
      "outputs": []
    },
    {
      "cell_type": "code",
      "metadata": {
        "id": "OqcCHivjB9vL"
      },
      "source": [
        "tieude=dict()\n",
        "tacgia=dict()\n",
        "mota=dict()\n",
        "giaban=dict()\n",
        "giabia=dict()\n",
        "for i in range(0, len(sach)):\n",
        "  tieude[i]=[]\n",
        "  tacgia[i]=[]\n",
        "  mota[i]=[]\n",
        "  giaban[i]=[]\n",
        "  giabia[i]=[]\n",
        "  sach[i] = list(filter(None, sach[i]))\n",
        "  for n in range(0, len(sach[i])):\n",
        "      tieude[i].append(sach[i][n][0]) \n",
        "      tacgia[i].append(sach[i][n][1])\n",
        "      mota[i].append(sach[i][n][2])\n",
        "      if len(sach[i][n])==5:\n",
        "        if (sach[i][n][3]).isdigit() and (sach[i][n][4]).isdigit():\n",
        "          giabia[i].append((\"{:,}\".format(int(sach[i][n][3]))).replace(',',' '))\n",
        "          giaban[i].append((\"{:,}\".format(int(sach[i][n][4]))).replace(',',' '))\n",
        "        else:\n",
        "          giabia[i].append(sach[i][n][3])\n",
        "          giaban[i].append(sach[i][n][4])\n",
        "      else:\n",
        "          giabia[i].append('không có')\n",
        "          giaban[i].append('không có')\n",
        "\n",
        "tieude\n",
        "#Output cannot be viewed due to policies"
      ],
      "execution_count": null,
      "outputs": []
    },
    {
      "cell_type": "markdown",
      "source": [
        "Manage files' directories (Google Drive)"
      ],
      "metadata": {
        "id": "KdkyLcsouoFL"
      }
    },
    {
      "cell_type": "code",
      "metadata": {
        "id": "AjXbHVrLCRoE"
      },
      "source": [
        "hinhanh_dict = dict()\n",
        "for i in range(0, df.shape[0]):\n",
        "  if len(hinhanh[i]) != 0:\n",
        "    hinhanh_dict[i] = hinhanh[i].split(', ')\n",
        "  else:\n",
        "    hinhanh_dict[i] = []"
      ],
      "execution_count": null,
      "outputs": []
    },
    {
      "cell_type": "code",
      "metadata": {
        "id": "JLfEE1VG84y_"
      },
      "source": [
        "def get_file_id(link):\n",
        "  target = ''\n",
        "  for i in range(0, 33):\n",
        "    letter = link[i]\n",
        "    target += letter\n",
        "  if target == 'https://drive.google.com/open?id=':\n",
        "    fileid = link[i+1:]\n",
        "  else:\n",
        "    fileid = ''\n",
        "  return fileid"
      ],
      "execution_count": null,
      "outputs": []
    },
    {
      "cell_type": "code",
      "metadata": {
        "id": "6d33SRsc_L_Q"
      },
      "source": [
        "fileid = dict()\n",
        "for i in range(0, len(hinhanh_dict)):\n",
        "  fileid[i] = []\n",
        "  for link in hinhanh_dict[i]:\n",
        "    if len(hinhanh_dict[i]) != 0:\n",
        "      fileid[i].append(get_file_id(link))"
      ],
      "execution_count": null,
      "outputs": []
    },
    {
      "cell_type": "code",
      "metadata": {
        "id": "K29JJzjvZf8k"
      },
      "source": [
        "from pydrive.auth import GoogleAuth\n",
        "from pydrive.drive import GoogleDrive\n",
        "from google.colab import auth, files\n",
        "from oauth2client.client import GoogleCredentials"
      ],
      "execution_count": null,
      "outputs": []
    },
    {
      "cell_type": "code",
      "metadata": {
        "id": "RsDIYfDwcu-3"
      },
      "source": [
        "auth.authenticate_user()\n",
        "gauth = GoogleAuth()\n",
        "gauth.credentials = GoogleCredentials.get_application_default()\n",
        "drive = GoogleDrive(gauth)"
      ],
      "execution_count": null,
      "outputs": []
    },
    {
      "cell_type": "code",
      "metadata": {
        "id": "ypnmz3iBs-XX"
      },
      "source": [
        "def createnewfolder(name, parents):\n",
        "  folder_metadata = {'title' : name, 'mimeType' : 'application/vnd.google-apps.folder', 'parents' : [{'id': parents}]}\n",
        "  folder = drive.CreateFile(folder_metadata)\n",
        "  folder.Upload()\n",
        "  return folder['id']\n",
        "def movefiletofolder(file_id, new_parent):\n",
        "  files = drive.auth.service.files()\n",
        "  file  = files.get(fileId= file_id, fields= 'parents').execute()\n",
        "  prev_parents = ','.join(p['id'] for p in file.get('parents'))\n",
        "  file  = files.update(fileId = file_id,\n",
        "                        addParents = new_parent,\n",
        "                        removeParents = prev_parents,\n",
        "                        fields = 'id, parents').execute()"
      ],
      "execution_count": null,
      "outputs": []
    },
    {
      "cell_type": "code",
      "metadata": {
        "id": "OeTP2NNqtCcp"
      },
      "source": [
        "folder_code = dict()\n",
        "\n",
        "for i in range(limit_code+1, df.shape[0]):\n",
        "  folderid = createnewfolder(name=df['ten'].iloc[i], parents='**************************') #Encoded string\n",
        "  folder_code[i] = folderid\n",
        "  for code in fileid[i]:\n",
        "    if len(fileid[i][0]) != 0:\n",
        "      movefiletofolder(file_id=code, new_parent=folderid)"
      ],
      "execution_count": null,
      "outputs": []
    },
    {
      "cell_type": "code",
      "metadata": {
        "id": "FfXVx8gnYJOx"
      },
      "source": [
        "folder_link = dict()\n",
        "default_string = 'https://drive.google.com/open?id='\n",
        "for i in folder_code.keys():\n",
        "  folder_link[i] = default_string + folder_code[i]\n",
        "\n",
        "folder_link\n",
        "#Output cannot be viewed due to policies"
      ],
      "execution_count": null,
      "outputs": []
    },
    {
      "cell_type": "markdown",
      "source": [
        "Construct final dataframe"
      ],
      "metadata": {
        "id": "HOqGDAVL08CD"
      }
    },
    {
      "cell_type": "code",
      "metadata": {
        "id": "va8zfdVlJ3_x"
      },
      "source": [
        "codelist=[]\n",
        "for n in tieude.keys():\n",
        "    for i in range(0, len(tieude[n])):\n",
        "        codelist.append(n)\n",
        "s = pd.Series(codelist)"
      ],
      "execution_count": null,
      "outputs": []
    },
    {
      "cell_type": "code",
      "metadata": {
        "id": "xhgdbP6_KMpb"
      },
      "source": [
        "exceldf=pd.DataFrame()\n",
        "exceldf['code'] = s"
      ],
      "execution_count": null,
      "outputs": []
    },
    {
      "cell_type": "code",
      "metadata": {
        "id": "_zsd_drFPBut"
      },
      "source": [
        "m=0\n",
        "s = pd.Series(codelist)\n",
        "for i in list(set(codelist)):\n",
        "    tua = tieude[i]\n",
        "    for n in range(0, len(tua)):\n",
        "        s[m] = tua[n]\n",
        "        m+=1\n",
        "exceldf['Sách'] = s\n",
        "m=0\n",
        "s = pd.Series(codelist)\n",
        "for i in tacgia.keys():\n",
        "    tua = tacgia[i]\n",
        "    for n in range(0, len(tua)):\n",
        "        s[m] = tua[n]\n",
        "        m+=1\n",
        "exceldf['Tác giả'] = s\n",
        "m=0\n",
        "s = pd.Series(codelist)\n",
        "for i in mota.keys():\n",
        "    tua = mota[i]\n",
        "    for n in range(0, len(tua)):\n",
        "        s[m] = tua[n]\n",
        "        m+=1\n",
        "exceldf['Mô tả'] = s\n",
        "m=0\n",
        "s = pd.Series(codelist)\n",
        "for m in range(limit_row, exceldf.shape[0]):\n",
        "    s[m] = folder_link[exceldf['code'].iloc[m]]\n",
        "exceldf['Hình ảnh'] = s\n",
        "m=0\n",
        "s = pd.Series(codelist)\n",
        "for i in giabia.keys():\n",
        "    gia = giabia[i]\n",
        "    for n in range(0, len(gia)):\n",
        "        s[m] = gia[n]\n",
        "        m+=1\n",
        "exceldf['Giá bìa'] = s\n",
        "m=0\n",
        "s = pd.Series(codelist)\n",
        "for i in giaban.keys():\n",
        "    gia = giaban[i]\n",
        "    for n in range(0, len(gia)):\n",
        "        s[m] = gia[n]\n",
        "        m+=1\n",
        "exceldf['Giá bán'] = s\n",
        "s = pd.Series(codelist)\n",
        "for m in range(0, exceldf.shape[0]):\n",
        "    s[m] = name[exceldf['code'].iloc[m]]\n",
        "exceldf['Tên'] = s\n",
        "s = pd.Series(codelist)\n",
        "for m in range(0, exceldf.shape[0]):\n",
        "    s[m] = contact[exceldf['code'].iloc[m]]\n",
        "exceldf['Thông tin liên lạc'] = s\n",
        "s = pd.Series(codelist)\n",
        "for m in range(0, exceldf.shape[0]):\n",
        "    s[m] = loce[exceldf['code'].iloc[m]]\n",
        "exceldf['Khu vực'] = s\n",
        "\n",
        "exceldf.head(10)\n",
        "#Output cannot be viewed due to policies"
      ],
      "execution_count": null,
      "outputs": []
    },
    {
      "cell_type": "markdown",
      "source": [
        "Update new data to spreadsheet"
      ],
      "metadata": {
        "id": "NG6Z5i6-t1G9"
      }
    },
    {
      "cell_type": "code",
      "metadata": {
        "id": "mInnq1k6Qj2_"
      },
      "source": [
        "from google.colab import auth\n",
        "auth.authenticate_user()\n",
        "\n",
        "import gspread\n",
        "from oauth2client.client import GoogleCredentials"
      ],
      "execution_count": null,
      "outputs": []
    },
    {
      "cell_type": "code",
      "metadata": {
        "id": "YufxEt0EtvRy"
      },
      "source": [
        "gc = gspread.authorize(GoogleCredentials.get_application_default())"
      ],
      "execution_count": null,
      "outputs": []
    },
    {
      "cell_type": "code",
      "metadata": {
        "id": "BqkXhWBItwDd"
      },
      "source": [
        "worksheet = gc.open('BẢNG TRA CỨU chatbot').sheet1\n",
        "for row in range(limit_row, exceldf.shape[0]):\n",
        "  for col in range(0, len(list(exceldf.columns))):\n",
        "    data = exceldf[exceldf.columns[col]].iloc[row]\n",
        "    if type(data) == np.int64:\n",
        "      data = int(data)\n",
        "    worksheet.update_cell(row+2, col+1, data)"
      ],
      "execution_count": null,
      "outputs": []
    },
    {
      "cell_type": "code",
      "metadata": {
        "id": "8b7PxxLAt39_"
      },
      "source": [
        "worksheet = gc.open('BẢNG TRA CỨU').sheet1\n",
        "for row in range(limit_row, exceldf.shape[0]):\n",
        "  for col in range(1, len(list(exceldf.columns))):\n",
        "    data = exceldf[exceldf.columns[col]].iloc[row]\n",
        "    if type(data) == np.int64:\n",
        "      data = int(data)\n",
        "    worksheet.update_cell(row+2, col, data)"
      ],
      "execution_count": null,
      "outputs": []
    }
  ]
}